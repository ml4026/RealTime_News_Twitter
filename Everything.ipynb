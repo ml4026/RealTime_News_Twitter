{
 "cells": [
  {
   "cell_type": "code",
   "execution_count": 1,
   "metadata": {},
   "outputs": [],
   "source": [
    "from newsapi import NewsApiClient\n",
    "import nltk\n",
    "from nltk.corpus import stopwords\n",
    "import tweepy\n",
    "from textblob import TextBlob\n",
    "import re\n",
    "import matplotlib.pyplot as plt"
   ]
  },
  {
   "cell_type": "code",
   "execution_count": 2,
   "metadata": {},
   "outputs": [],
   "source": [
    "apikey = '1f410fa242c14f4f84d4947dd8fd3892'\n",
    "consumer_key = 'g0sjhA8K1nLxmi10wfRnySWAD'\n",
    "consumer_secret = 'Yzv0W30mMq2vkiee2uwTHecKbrPnttrsQSKqJDbG0d0qLfEEaH'\n",
    "access_token = '979817021226536962-tg7SqgMBjriHmifGOpBWj7FBYayxDTX'\n",
    "access_token_secret = 'dRy45oE1gVkMaNY7ITrYpDtdfkSqGDvNcHbtbXrs9Qg18'"
   ]
  },
  {
   "cell_type": "code",
   "execution_count": 3,
   "metadata": {},
   "outputs": [],
   "source": [
    "client = NewsApiClient(api_key = apikey)"
   ]
  },
  {
   "cell_type": "code",
   "execution_count": 13,
   "metadata": {},
   "outputs": [],
   "source": [
    "headlines = client.get_top_headlines(language = 'en', country = 'us')"
   ]
  },
  {
   "cell_type": "code",
   "execution_count": 14,
   "metadata": {},
   "outputs": [
    {
     "name": "stdout",
     "output_type": "stream",
     "text": [
      "Two Black Men Were Arrested In Starbucks. Witnesses Say They \"Didn't Do Anything.\"\n",
      "A Trump Doctrine for the Middle East\n",
      "Carrie Underwood shares another distant photo of face ahead of ACM Awards\n",
      "Colorado police arrest woman found in dumpster for filing false report\n",
      "Thousands of Hungarians Protest Against Newly Elected Leader\n",
      "Prosecutors: Cohen raid is red flag for Trump\n",
      "South African liberation fighter Winnie Madikizela-Mandela laid to rest with songs, tears and cheers\n",
      "Kentucky governor claims that children were raped, used drugs while teachers protested\n",
      "March for Science 2018: Passionate advocates push the cause for research across the globe\n",
      "White Homeowner Almost Kills Black Teen Who Knocked On His Door To Ask For Directions\n",
      "Who's to blame for the late Dez Bryant release?\n",
      "Kylie Jenner Isn't Like Other Moms At Coachella, She's A Cool Mom\n",
      "Cold, freezing rain, and thunderstorms are forecast for Marathon weekend\n",
      "Turkey's Erdogan welcomes Western attack on Syria, says operation a message to Assad\n",
      "Some Said They'd Flee Trump's America. These People Actually Did.\n",
      "A family's battle against a sheriff to try to prove relative was killed\n",
      "Justice Department inspector general report cites lack of candor by McCabe\n",
      "AI is an excuse for Facebook to keep messing up\n",
      "Republicans express doubts that Ryan can stay on as Speaker\n",
      "Mexico's energy minister rejects candidate's call for fuel price freeze\n"
     ]
    }
   ],
   "source": [
    "titles = []\n",
    "for article in headlines['articles']:\n",
    "    temp_title = article['title'].encode('ascii', 'ignore')\n",
    "    print temp_title\n",
    "    titles.append(temp_title)"
   ]
  },
  {
   "cell_type": "code",
   "execution_count": 6,
   "metadata": {},
   "outputs": [],
   "source": [
    "stop = stopwords.words('english')"
   ]
  },
  {
   "cell_type": "code",
   "execution_count": 11,
   "metadata": {},
   "outputs": [
    {
     "name": "stdout",
     "output_type": "stream",
     "text": [
      "['Shulkin', 'Tony', 'Ferguson', 'Max Holloway', 'Khabib Nurmagomedov', 'Bay', 'Saks', 'Lord', 'Taylor', 'Michigan', 'NCAA', 'Kim Jong Un', 'Trump International Golf Club', 'Pruitt', 'House', 'Tariffs', 'Efran', 'Ros Montt', 'Guatemalan Dictator Convicted', 'Space Lab', 'Bernie', 'Sanders', 'Trump', 'Amazon', 'Warriors', 'Patrick McCaw Sound', 'Player One', 'Stephon Clark', 'Laura', 'Ingraham']\n"
     ]
    }
   ],
   "source": [
    "keyname = []\n",
    "for text in titles:    \n",
    "    for sent in nltk.sent_tokenize(text):\n",
    "        for chunk in nltk.ne_chunk(nltk.pos_tag(nltk.word_tokenize(sent))):\n",
    "            if hasattr(chunk, 'label'):\n",
    "                if chunk.label() == 'PERSON' or chunk.label() == 'ORGANIZATION':\n",
    "                    keyname.append(' '.join(c[0] for c in chunk.leaves()))\n",
    "print keyname"
   ]
  },
  {
   "cell_type": "code",
   "execution_count": 15,
   "metadata": {},
   "outputs": [],
   "source": [
    "def twitter_setup():\n",
    "    \"\"\"\n",
    "    Utility function to setup the Twitter's API\n",
    "    with our access keys provided.\n",
    "    \"\"\"\n",
    "    # Authentication and access using keys:\n",
    "    auth = tweepy.OAuthHandler(consumer_key, consumer_secret)\n",
    "    auth.set_access_token(access_token, access_token_secret)\n",
    "\n",
    "    # Return API with authentication:\n",
    "    api = tweepy.API(auth)\n",
    "    return api"
   ]
  },
  {
   "cell_type": "code",
   "execution_count": 18,
   "metadata": {},
   "outputs": [],
   "source": [
    "def clean_tweet(tweet):\n",
    "    '''\n",
    "    Utility function to clean the text in a tweet by removing \n",
    "    links and special characters using regex.\n",
    "    '''\n",
    "    return ' '.join(re.sub(\"(@[A-Za-z0-9]+)|([^0-9A-Za-z \\t])|(\\w+:\\/\\/\\S+)\", \" \", tweet).split())\n",
    "\n",
    "def analize_sentiment(tweet):\n",
    "    '''\n",
    "    Utility function to classify the polarity of a tweet\n",
    "    using textblob.\n",
    "    '''\n",
    "    analysis = TextBlob(clean_tweet(tweet))\n",
    "    if analysis.sentiment.polarity > 0:\n",
    "        return 1\n",
    "    elif analysis.sentiment.polarity == 0:\n",
    "        return 0\n",
    "    else:\n",
    "        return -1"
   ]
  },
  {
   "cell_type": "code",
   "execution_count": 16,
   "metadata": {},
   "outputs": [
    {
     "name": "stdout",
     "output_type": "stream",
     "text": [
      "15\n"
     ]
    }
   ],
   "source": [
    "title = titles[5]\n",
    "extractor = twitter_setup()\n",
    "tweets = extractor.search(q = title, lang = 'en')"
   ]
  },
  {
   "cell_type": "code",
   "execution_count": 21,
   "metadata": {},
   "outputs": [],
   "source": [
    "sentiment_count = [0] * 3\n",
    "for i in range(len(tweets)):\n",
    "    tweet = tweets[i].text\n",
    "    sentiment = analize_sentiment(tweet)\n",
    "    sentiment_count[sentiment] += 1"
   ]
  },
  {
   "cell_type": "code",
   "execution_count": 27,
   "metadata": {},
   "outputs": [
    {
     "name": "stdout",
     "output_type": "stream",
     "text": [
      "North Korea's Kim Jong Un, wife, watch South Korean K-pop stars perform in Pyongyang\n"
     ]
    },
    {
     "data": {
      "image/png": "[encoded data removed]",
      "text/plain": [
       "<matplotlib.figure.Figure at 0x1a24538b90>"
      ]
     },
     "metadata": {},
     "output_type": "display_data"
    }
   ],
   "source": [
    "print title\n",
    "sentiment_set = ['Neutral', 'Positive', 'Negative']\n",
    "cols = ['g', 'r', 'b']\n",
    "\n",
    "plt.pie(sentiment_count, labels = sentiment_set, colors = cols, startangle = 90)\n",
    "plt.show()"
   ]
  },
  {
   "cell_type": "code",
   "execution_count": null,
   "metadata": {},
   "outputs": [],
   "source": []
  }
 ],
 "metadata": {
  "kernelspec": {
   "display_name": "Python 2",
   "language": "python",
   "name": "python2"
  },
  "language_info": {
   "codemirror_mode": {
    "name": "ipython",
    "version": 2
   },
   "file_extension": ".py",
   "mimetype": "text/x-python",
   "name": "python",
   "nbconvert_exporter": "python",
   "pygments_lexer": "ipython2",
   "version": "2.7.14"
  }
 },
 "nbformat": 4,
 "nbformat_minor": 2
}
